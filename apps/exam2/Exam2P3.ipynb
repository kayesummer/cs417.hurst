{
 "cells": [
  {
   "cell_type": "code",
   "execution_count": 19,
   "metadata": {},
   "outputs": [
    {
     "ename": "TypeError",
     "evalue": "unsupported operand type(s) for -: 'str' and 'str'",
     "output_type": "error",
     "traceback": [
      "\u001b[1;31m---------------------------------------------------------------------------\u001b[0m",
      "\u001b[1;31mTypeError\u001b[0m                                 Traceback (most recent call last)",
      "Cell \u001b[1;32mIn [19], line 63\u001b[0m\n\u001b[0;32m     60\u001b[0m     \u001b[38;5;28;01mreturn\u001b[39;00m cHull\n\u001b[0;32m     62\u001b[0m data \u001b[38;5;241m=\u001b[39m readData(\u001b[38;5;124m\"\u001b[39m\u001b[38;5;124me2p2data.csv\u001b[39m\u001b[38;5;124m\"\u001b[39m)\n\u001b[1;32m---> 63\u001b[0m \u001b[38;5;28mprint\u001b[39m(cHull \u001b[38;5;241m=\u001b[39m \u001b[43mconvexHull\u001b[49m\u001b[43m(\u001b[49m\u001b[43mdata\u001b[49m\u001b[43m)\u001b[49m)\n",
      "Cell \u001b[1;32mIn [19], line 56\u001b[0m, in \u001b[0;36mconvexHull\u001b[1;34m(data)\u001b[0m\n\u001b[0;32m     54\u001b[0m \u001b[38;5;28;01mfor\u001b[39;00m index1, \u001b[38;5;28mtuple\u001b[39m \u001b[38;5;129;01min\u001b[39;00m \u001b[38;5;28menumerate\u001b[39m(data): \n\u001b[0;32m     55\u001b[0m     \u001b[38;5;28;01mfor\u001b[39;00m index2, \u001b[38;5;28mtuple\u001b[39m \u001b[38;5;129;01min\u001b[39;00m \u001b[38;5;28menumerate\u001b[39m(data): \n\u001b[1;32m---> 56\u001b[0m         test \u001b[38;5;241m=\u001b[39m \u001b[43mpointLocation\u001b[49m\u001b[43m(\u001b[49m\u001b[43mdata\u001b[49m\u001b[43m[\u001b[49m\u001b[43mindex\u001b[49m\u001b[43m]\u001b[49m\u001b[43m,\u001b[49m\u001b[43m \u001b[49m\u001b[43mdata\u001b[49m\u001b[43m[\u001b[49m\u001b[43mindex1\u001b[49m\u001b[43m]\u001b[49m\u001b[43m,\u001b[49m\u001b[43m \u001b[49m\u001b[43mdata\u001b[49m\u001b[43m[\u001b[49m\u001b[43mindex2\u001b[49m\u001b[43m]\u001b[49m\u001b[43m)\u001b[49m\n\u001b[0;32m     57\u001b[0m         \u001b[38;5;28;01mif\u001b[39;00m test \u001b[38;5;241m==\u001b[39m \u001b[38;5;241m0\u001b[39m: \n\u001b[0;32m     58\u001b[0m             cHull\u001b[38;5;241m.\u001b[39mappend(data[index], data[index1])\n",
      "Cell \u001b[1;32mIn [19], line 33\u001b[0m, in \u001b[0;36mpointLocation\u001b[1;34m(p1, p2, testPoint)\u001b[0m\n\u001b[0;32m     32\u001b[0m \u001b[38;5;28;01mdef\u001b[39;00m \u001b[38;5;21mpointLocation\u001b[39m(p1, p2, testPoint):\n\u001b[1;32m---> 33\u001b[0m     a \u001b[38;5;241m=\u001b[39m (\u001b[43mp2\u001b[49m\u001b[43m[\u001b[49m\u001b[38;5;241;43m-\u001b[39;49m\u001b[38;5;241;43m1\u001b[39;49m\u001b[43m]\u001b[49m\u001b[43m \u001b[49m\u001b[38;5;241;43m-\u001b[39;49m\u001b[43m \u001b[49m\u001b[43mp1\u001b[49m\u001b[43m[\u001b[49m\u001b[38;5;241;43m-\u001b[39;49m\u001b[38;5;241;43m1\u001b[39;49m\u001b[43m]\u001b[49m)\n\u001b[0;32m     34\u001b[0m     b \u001b[38;5;241m=\u001b[39m (p1[\u001b[38;5;241m0\u001b[39m] \u001b[38;5;241m-\u001b[39m p2[\u001b[38;5;241m0\u001b[39m])\n\u001b[0;32m     35\u001b[0m     c \u001b[38;5;241m=\u001b[39m ((p1[\u001b[38;5;241m0\u001b[39m] \u001b[38;5;241m*\u001b[39m p2[\u001b[38;5;241m-\u001b[39m\u001b[38;5;241m1\u001b[39m]) \u001b[38;5;241m-\u001b[39m (p2[\u001b[38;5;241m0\u001b[39m] \u001b[38;5;241m*\u001b[39m p1[\u001b[38;5;241m-\u001b[39m\u001b[38;5;241m1\u001b[39m]))\n",
      "\u001b[1;31mTypeError\u001b[0m: unsupported operand type(s) for -: 'str' and 'str'"
     ]
    }
   ],
   "source": [
    "#Continuing the wildlife biology theme, we can identify the limits of the predator's range by finding the \"convex hull\" \n",
    "# of all the points where our radio collar has reported the location of the animal.   Convex hull?  Think of it this way.... \n",
    "# if you were to take a rubber band and stretch it so that it's outside of all points and then let it contract, then the convex \n",
    "# hull is the set of points that the rubber band touches.\n",
    "\n",
    "#Assuming you have the points as a Python list of tuples (see previous question) and your function that determines if a point is \n",
    "# above, below, or on a line between two points (see first question), then an algorithm for finding the convex hull is as follows:\n",
    "\n",
    "#for each point in the list\n",
    "#    for each point in the list other than the current first point\n",
    "#           for each point other than the first and second points\n",
    "#                   determine if this third point is above, below, or on the line between \n",
    "#                             1st and 2nd points\n",
    "#           if all points are on one side of the line, then add the first and second points \n",
    "#                    to a list of points on the c-hull\n",
    "\n",
    "\n",
    "#Write a function in Python that accepts as input a list of points where each point is stored in a tuple and returns a list of \n",
    "# points that form the convex hull of the points in the input list.\n",
    "\n",
    "#Hints and notes:\n",
    "\n",
    "#Remember: it's Pythonic to think in terms of data structures rather than parts of data structures.  Treat points as points \n",
    "# and you can do this function almost exactly as described in the algorithm.  (I was able to do it in just 10 lines of Python code.)\n",
    "#You've already written a good part of this function in the first two questions.   You already have the code.... just call the functions you've written.\n",
    "#The '==' operator works on tuples.\n",
    "#For the innermost loop in the algorithm, you are going to have a find a way to keep track of the sign of what is returned from the \n",
    "# function in the first question.   If the sign stays the same for each point in the list of points, then the two points you are checking are on the convex hull!\n",
    "\n",
    "from csv import reader\n",
    "\n",
    "def pointLocation(p1, p2, testPoint):\n",
    "    a = (p2[-1] - p1[-1])\n",
    "    b = (p1[0] - p2[0])\n",
    "    c = ((p1[0] * p2[-1]) - (p2[0] * p1[-1]))\n",
    "\n",
    "    return ((a * testPoint[0]) + (b * testPoint[-1]) - c)\n",
    "\n",
    "def readData(fileName):\n",
    "    # read csv file as a list of lists\n",
    "    with open(fileName, 'r') as read_obj:\n",
    "        # pass the file object to reader() to get the reader object\n",
    "        csv_reader = reader(read_obj)\n",
    "        # Pass reader object to list() to get a list of lists\n",
    "        data = list(map(tuple, csv_reader))\n",
    "\n",
    "    return data\n",
    "\n",
    "\n",
    "def convexHull(data):\n",
    "    cHull = []\n",
    "    \n",
    "    for index, tuple in enumerate(data):\n",
    "        for index1, tuple in enumerate(data): \n",
    "            for index2, tuple in enumerate(data): \n",
    "                test = pointLocation(data[index], data[index1], data[index2])\n",
    "                if test == 0: \n",
    "                    cHull.append(data[index], data[index1])\n",
    "\n",
    "    return cHull\n",
    "\n",
    "data = readData(\"e2p2data.csv\")\n",
    "print(cHull = convexHull(data))"
   ]
  }
 ],
 "metadata": {
  "kernelspec": {
   "display_name": "Python 3.10.7 64-bit (microsoft store)",
   "language": "python",
   "name": "python3"
  },
  "language_info": {
   "codemirror_mode": {
    "name": "ipython",
    "version": 3
   },
   "file_extension": ".py",
   "mimetype": "text/x-python",
   "name": "python",
   "nbconvert_exporter": "python",
   "pygments_lexer": "ipython3",
   "version": "3.10.8"
  },
  "orig_nbformat": 4,
  "vscode": {
   "interpreter": {
    "hash": "bfec723a3f94d9df6c18ca62a15e1ea49fcfd5b2596b9e30e43cfd22f0e38778"
   }
  }
 },
 "nbformat": 4,
 "nbformat_minor": 2
}
