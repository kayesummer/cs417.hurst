{
 "cells": [
  {
   "cell_type": "code",
   "execution_count": 5,
   "metadata": {},
   "outputs": [
    {
     "name": "stdout",
     "output_type": "stream",
     "text": [
      "0\n"
     ]
    }
   ],
   "source": [
    "#A common problem in geometry is determining if a point is above or below a line connecting two other points. Thinking about this a bit,  if I have two points (x1,y1) and (x2,y2) in the plane I can compute three quantities:\n",
    "\n",
    "#a   =   ( y 1   - y 0 ) b   =   ( x 0   -   x 1 ) c   =   ( x 0 y 1   - x 1 y 0 )\n",
    "\n",
    "#that I can use to determine if a point is above  or below a point.  For some point (x,y),  if (ax+by-c) is positive then a point is above or to the left of the line connecting (x1,y1) and (x2,y2),   if (ax+by-c) is negative then it is below or to the right, or if (ax+by-c) is zero, then the point (x,y) is on the line connecting (x1,y1) and (x2,y2).\n",
    "\n",
    "#Write a function in Python that given two tuples x and y with each tuple storing x-y coordinates and a tuple z with a point to test, returns the value of (a*z0+b*z1-c)\n",
    "\n",
    "\n",
    "def pointLocation(p1, p2, testPoint):\n",
    "    a = (p2[-1] - p1[-1])\n",
    "    b = (p1[0] - p2[0])\n",
    "    c = ((p1[0] * p2[-1]) - (p2[0] * p1[-1]))\n",
    "\n",
    "    value = ((a * testPoint[0]) + (b * testPoint[-1]) - c)\n",
    "\n",
    "    return value\n",
    "\n",
    "p1 = (65,34568)\n",
    "p2 = (64,68)\n",
    "testPoint = (88,685)\n",
    "print(pointLocation(p1, p2, testPoint))\n",
    "\n"
   ]
  }
 ],
 "metadata": {
  "kernelspec": {
   "display_name": "Python 3.10.7 64-bit (microsoft store)",
   "language": "python",
   "name": "python3"
  },
  "language_info": {
   "codemirror_mode": {
    "name": "ipython",
    "version": 3
   },
   "file_extension": ".py",
   "mimetype": "text/x-python",
   "name": "python",
   "nbconvert_exporter": "python",
   "pygments_lexer": "ipython3",
   "version": "3.10.8"
  },
  "orig_nbformat": 4,
  "vscode": {
   "interpreter": {
    "hash": "bfec723a3f94d9df6c18ca62a15e1ea49fcfd5b2596b9e30e43cfd22f0e38778"
   }
  }
 },
 "nbformat": 4,
 "nbformat_minor": 2
}
