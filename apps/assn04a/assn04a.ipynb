{
 "cells": [
  {
   "cell_type": "markdown",
   "id": "63cbc0ea-7cd4-4438-bb32-5b9426d83e09",
   "metadata": {},
   "source": [
    "CS417 Assignment 4: Getting your feet wet in Python\n",
    "---\n",
    "# Instructions\n",
    "Each of the following questions is followed by empty code cell. Add your code for the question to the cell and then execute that cell.  Submit the completed notebook by saving it in your GitHub repository and note in your submission on Blackboard where I can find the file.\n"
   ]
  },
  {
   "cell_type": "markdown",
   "id": "9465d6e4-f49c-438e-9a1d-ccf418e2fed9",
   "metadata": {},
   "source": [
    "## Problem 1 (Easy)\n",
    "Write a word frequency counter: How often does each word\n",
    "  show up in an array of words? Print out a report. (Hint: Use a dictionary to\n",
    "  count of the number of appearances of each word.)"
   ]
  },
  {
   "cell_type": "code",
   "execution_count": 1,
   "id": "366de7f5-8efd-4964-afb2-12734c2142e2",
   "metadata": {},
   "outputs": [
    {
     "name": "stdout",
     "output_type": "stream",
     "text": [
      "hello : 1\n",
      "partner : 1\n",
      "there : 1\n"
     ]
    }
   ],
   "source": [
    "#used code from: https://www.chegg.com/homework-help/questions-and-answers/python-write-word-frequency-counter-often-word-show-array-words-print-report-hint-use-dict-q30180663\n",
    "userInput = input(\"Enter sentence: \")\n",
    "wordDictionary = {}\n",
    "\n",
    "for word in userInput.split():\n",
    "    wordDictionary[word] = wordDictionary.get(word,0) + 1\n",
    "for key in sorted(wordDictionary):\n",
    "    print(\"{} : {}\".format(key,wordDictionary[key]))"
   ]
  },
  {
   "cell_type": "markdown",
   "id": "15b4b2ce-9118-4abb-9bbf-ed787721f87c",
   "metadata": {},
   "source": [
    "## Problem 2 (Easy)\n",
    "Given a month and the day of the week that’s the first of\n",
    "  that month entered as arugments on the command line, write a program\n",
    "  that prints a calendar for the month. (HINT: Remember one of the rules of being Pythonic: *Someone else has already done it*.  Do some research to see if you can find a Python library that will help you with this problem)."
   ]
  },
  {
   "cell_type": "code",
   "execution_count": 2,
   "id": "2b365fa9-c81c-4149-9e8f-eda14255d50c",
   "metadata": {},
   "outputs": [
    {
     "ename": "ValueError",
     "evalue": "invalid literal for int() with base 10: '--ip=127.0.0.1'",
     "output_type": "error",
     "traceback": [
      "\u001b[1;31m---------------------------------------------------------------------------\u001b[0m",
      "\u001b[1;31mValueError\u001b[0m                                Traceback (most recent call last)",
      "\u001b[1;32m<ipython-input-2-94f19d5df308>\u001b[0m in \u001b[0;36m<module>\u001b[1;34m\u001b[0m\n\u001b[0;32m     10\u001b[0m         \u001b[1;32mreturn\u001b[0m \u001b[1;36m30\u001b[0m\u001b[1;33m\u001b[0m\u001b[1;33m\u001b[0m\u001b[0m\n\u001b[0;32m     11\u001b[0m \u001b[1;33m\u001b[0m\u001b[0m\n\u001b[1;32m---> 12\u001b[1;33m \u001b[0mmonth\u001b[0m \u001b[1;33m=\u001b[0m \u001b[0mint\u001b[0m\u001b[1;33m(\u001b[0m\u001b[0msys\u001b[0m\u001b[1;33m.\u001b[0m\u001b[0margv\u001b[0m\u001b[1;33m[\u001b[0m\u001b[1;36m1\u001b[0m\u001b[1;33m]\u001b[0m\u001b[1;33m)\u001b[0m\u001b[1;33m\u001b[0m\u001b[1;33m\u001b[0m\u001b[0m\n\u001b[0m\u001b[0;32m     13\u001b[0m \u001b[0mday\u001b[0m \u001b[1;33m=\u001b[0m \u001b[0mint\u001b[0m\u001b[1;33m(\u001b[0m\u001b[0msys\u001b[0m\u001b[1;33m.\u001b[0m\u001b[0margv\u001b[0m\u001b[1;33m[\u001b[0m\u001b[1;36m2\u001b[0m\u001b[1;33m]\u001b[0m\u001b[1;33m)\u001b[0m\u001b[1;33m\u001b[0m\u001b[1;33m\u001b[0m\u001b[0m\n\u001b[0;32m     14\u001b[0m \u001b[1;33m\u001b[0m\u001b[0m\n",
      "\u001b[1;31mValueError\u001b[0m: invalid literal for int() with base 10: '--ip=127.0.0.1'"
     ]
    }
   ],
   "source": [
    "#used code from: https://www.chegg.com/homework-help/questions-and-answers/using-python-given-month-day-week-s-first-month-entered-arugments-command-line-write-progr-q30190106\n",
    "import sys \n",
    "\n",
    "def daysNumber(month):\n",
    "    if (month == 2):\n",
    "        return 28\n",
    "    elif (month == 1 or month == 3 or month == 5 or month == 7 or month == 8 or month == 10 or month == 12):\n",
    "        return 31\n",
    "    else :\n",
    "        return 30\n",
    "\n",
    "month = int(sys.argv[1])\n",
    "day = int(sys.argv[2])\n",
    "\n",
    "monthName = [\"January\",\"February\",\"March\",\"April\",\"May\",\"June\",\"July\",\"August\",\"September\",\"October\",\"November\",\"December\"]\n",
    "\n",
    "print(\"Month: \",monthName[month-1])\n",
    "print(\"Mo Tu We Th Fr Sa Su\")\n",
    "\n",
    "for i in range (1,day):\n",
    "    print(\"   \",end='')\n",
    "\n",
    "for current in range(1,daysNumber(month)+1):\n",
    "    print(\"%-2d\"%current,end=' ')\n",
    "    day = day + 1\n",
    "    if (day % 8 == 0):\n",
    "        day = day + 1\n",
    "        print()"
   ]
  },
  {
   "cell_type": "markdown",
   "id": "a7e29bca-2e3e-4cb2-a768-47215582850e",
   "metadata": {},
   "source": [
    "## Problem 3 (Easy)\n",
    "Write a function that counts the the characters in a\n",
    "  string input by the user.  Write a main function that calls this\n",
    "  function and displays the string and number of characters."
   ]
  },
  {
   "cell_type": "code",
   "execution_count": 3,
   "id": "f6189d14-e493-4473-a9cd-bffc9560160c",
   "metadata": {},
   "outputs": [
    {
     "name": "stdout",
     "output_type": "stream",
     "text": [
      "\n",
      "Word is:  spooky\n",
      "Total characters:  6\n"
     ]
    }
   ],
   "source": [
    "#used code from: https://www.chegg.com/homework-help/questions-and-answers/using-python-write-function-counts-characters-string-input-user-write-main-function-calls--q30190110\n",
    "def countChar(word):\n",
    "    count = 0\n",
    "    for char in word:\n",
    "        count = count + 1\n",
    "    return count\n",
    "\n",
    "def main():\n",
    "    word = input(\"Enter word: \")\n",
    "    totalChar = countChar(word)\n",
    "    print('\\nWord is: ', word)\n",
    "    print('Total characters: ', totalChar)\n",
    "main()"
   ]
  },
  {
   "cell_type": "markdown",
   "id": "d460ad3f",
   "metadata": {},
   "source": [
    "# Problem 4 (Moderate, but Painfully Simple)\n",
    "\n",
    "You are writing a test framework in Python and you need to determine what are the attributes and methods of an object.    Write a function (whose body, if you're careful about it, need only be a single statement) that returns a list of the attributes and methods of an object passed to it as an argument."
   ]
  },
  {
   "cell_type": "code",
   "execution_count": null,
   "id": "6dcfd557",
   "metadata": {},
   "outputs": [],
   "source": [
    "#used code from: https://stackoverflow.com/questions/2675028/list-attributes-of-an-object\n",
    "import pprint\n",
    "def getMethods(object):\n",
    "    pprint.pprint(object)\n"
   ]
  },
  {
   "cell_type": "markdown",
   "id": "72dc799e",
   "metadata": {},
   "source": [
    "# Problem 5 (Moderate)\n",
    "\n",
    "One can parse a fully-parenthesized in-fix expression using two stacks: an operand stack and an operator stack.   You traverse your way through a string containing such an expression and push numbers onto the operand stack and operators onto the operator stack.   When you see a right parenthsis character,  pop two numbers off of the operand stack and pop an operator off of the operator stack, do the operation (add, subtract, multiply, or divide), and push the result back onto the operand stack.   When you reach the end of the expression string, the number on the top of the operand stack is the result (assuming a correctly formatted expression).\n",
    "\n",
    "Write a function in Python that, given a fully-parenthesized in-fix expression in a string, returns the result of evaluating that expression."
   ]
  },
  {
   "cell_type": "code",
   "execution_count": null,
   "id": "3a5e579f",
   "metadata": {},
   "outputs": [],
   "source": [
    "\n",
    "def evalStackTops(numbers, operations):\n",
    "    op2 = numbers[-1]\n",
    "    numbers.pop()\n",
    "    op1 = numbers[-1]\n",
    "    numbers.pop()\n",
    "    if (numbers[-1] == '+'):\n",
    "        numbers.append(op1 + op2)\n",
    "    elif (numbers[-1] == '-'):\n",
    "        numbers.append(op1 - op2)\n",
    "    elif (numbers[-1] == '*'):\n",
    "        numbers.append(op1 * op2)\n",
    "    elif (numbers[-1] == '/'):\n",
    "        numbers.append(op1 / op2)\n",
    "    operations.pop()\n",
    "\n",
    "def evaluate(expression):\n",
    "    decimal = '.'\n",
    "    rightParen = ')'\n",
    "    numbers = []\n",
    "    operations = []\n",
    "    for x in expression: \n",
    "        if ((expression[x]).isDigit() or expression[x] == decimal):\n",
    "            numbers.append(expression[x])\n",
    "        elif (expression[x] == '+' or expression[x] == '-' or expression[x] == '*' or expression[x] == '/'):\n",
    "            operations.append(expression[x])\n",
    "        elif (expression[x] == rightParen):\n",
    "            evalStackTops(numbers, operations)\n",
    "    return "
   ]
  }
 ],
 "metadata": {
  "kernelspec": {
   "display_name": "Python 3.8.8 64-bit (system)",
   "language": "python",
   "name": "python3"
  },
  "language_info": {
   "codemirror_mode": {
    "name": "ipython",
    "version": 3
   },
   "file_extension": ".py",
   "mimetype": "text/x-python",
   "name": "python",
   "nbconvert_exporter": "python",
   "pygments_lexer": "ipython3",
   "version": "3.8.8"
  },
  "vscode": {
   "interpreter": {
    "hash": "c720156f5f54e8d81958fe21d8fc969eaaee5e0db191613f3efe9c7fde57d18d"
   }
  }
 },
 "nbformat": 4,
 "nbformat_minor": 5
}
