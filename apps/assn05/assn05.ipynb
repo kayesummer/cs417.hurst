{
 "cells": [
  {
   "cell_type": "markdown",
   "id": "b5214ed3-f3c4-4413-80c0-b9bd957f49de",
   "metadata": {},
   "source": [
    "CS417 Assignment 05\n",
    "---\n",
    "More Fun With Python\n",
    "---\n",
    "\n",
    "# Problem 1(Easy) \n",
    "Write a function named `occurrences` in Python  that takes a list and some object returns the a new list that\n",
    "    contains the elements in the first list equal to the key.\n",
    "    "
   ]
  },
  {
   "cell_type": "code",
   "execution_count": 9,
   "id": "19dd3781-6336-4ba4-af0a-ccce5efc85ee",
   "metadata": {
    "tags": []
   },
   "outputs": [
    {
     "name": "stdout",
     "output_type": "stream",
     "text": [
      "[2, 2, 2]\n"
     ]
    }
   ],
   "source": [
    "def occurences (list, object):\n",
    "    newList = []\n",
    "    for i in list: \n",
    "        if (i == object):\n",
    "            newList.append(i)\n",
    "    return newList\n",
    "\n",
    "print(occurences([1, 2, 2, 3, 4, 2], 2))"
   ]
  },
  {
   "cell_type": "markdown",
   "id": "217a51f9-8ce4-490b-9f50-830d9720e32c",
   "metadata": {},
   "source": [
    "# Problem 2 (Easy)\n",
    "Write a function in Python named `numSmaller` that\n",
    "    given a parameter containing a list of size 1 or greater and some\n",
    "    numeric parameter returns the number of elements that are strictly\n",
    "    **less** than that number."
   ]
  },
  {
   "cell_type": "code",
   "execution_count": 8,
   "id": "3717c6f8-4078-44e5-bb70-c62bb7dae0fe",
   "metadata": {
    "tags": []
   },
   "outputs": [
    {
     "name": "stdout",
     "output_type": "stream",
     "text": [
      "3\n"
     ]
    }
   ],
   "source": [
    "def numSmaller(list, number):\n",
    "    counter = 0\n",
    "    for x in list: \n",
    "        if (x < number): \n",
    "            counter = counter + 1\n",
    "    return counter\n",
    "\n",
    "print(numSmaller([1,2,3,4,5], 4))"
   ]
  },
  {
   "cell_type": "markdown",
   "id": "ec4bda44-1b7b-4b4a-b08e-79b3b9bf6da5",
   "metadata": {},
   "source": [
    "# Problem 3 (Easy) \n",
    "Write a function in Python named `secondSmallest`\n",
    "    takes a list of size 1 or greater and returns the position of the\n",
    "    second smallest element of the list.   In the case, where the\n",
    "    smallest entry in the list occurs more than once, the second\n",
    "    occurrence of the item would be the second smallest entry.  For\n",
    "    example, in the list `[1,1,1,2,3]`, the position returned\n",
    "    would be 1.\n",
    "    \n",
    "    "
   ]
  },
  {
   "cell_type": "code",
   "execution_count": 18,
   "id": "9f374dee-e226-4b3f-bedc-7e3c6d0e07a9",
   "metadata": {},
   "outputs": [
    {
     "data": {
      "text/plain": [
       "1"
      ]
     },
     "execution_count": 18,
     "metadata": {},
     "output_type": "execute_result"
    }
   ],
   "source": [
    "#used code from: https://www.chegg.com/homework-help/questions-and-answers/please-help-python-3-homework-please-screenshot-output-thank-1-write-function-named-occurr-q58080507\n",
    "def secondSmallest (list):\n",
    "    smallest = 0\n",
    "    secondSmallest = 1\n",
    "    count = 1\n",
    "    for i in range(1, len(list)):\n",
    "        if list[i] < list[smallest]:\n",
    "            smallest = i\n",
    "            count = 1\n",
    "        elif list[i] == list[smallest] and count < 2:\n",
    "            secondSmallest = i\n",
    "            count += 1\n",
    "        elif list[i] < list[secondSmallest]:\n",
    "            secondSmallest = i \n",
    "    return secondSmallest\n",
    "\n",
    "secondSmallest([1,1,1,2,3])\n",
    "\n"
   ]
  },
  {
   "cell_type": "markdown",
   "id": "e7f19b38-0935-44cd-888a-59c74efa7822",
   "metadata": {},
   "source": [
    "# Problem 4 (Very Easy) \n",
    "You are given a text file that contains the timetable for buses\n",
    "that travel a college campus.  The first line of the file\n",
    "contains the name for each stop on the bus system separated by\n",
    "colons.  Each following line contains the times using a 24-hour\n",
    "clock at which each bus in the system will arrive at a bus stop,\n",
    "also separated by colons.\n",
    "\n",
    "The timetable will have the following format:\n",
    "\n",
    "| BUS | Athens | Ardmore | Harvest| Huntsville| Athens|\n",
    "|-----|--------|---------|--------|-----------|-------|\n",
    "|48  | 0800 | 0830| 0845 | 0915 | 1015|\n",
    "|49  | 0830 | 0900| 0915 | 0945 | 1045|\n",
    "|50  | 0900 | 0930| 0945 | 1015 | 1115|\n",
    "\n",
    "Write a program in Python that reads this file and outputs a row\n",
    "for each bus stop, showing the times when a bus arrives at that\n",
    "stop, formated in a table (remember... someone has already done it for you)."
   ]
  },
  {
   "cell_type": "code",
   "execution_count": 30,
   "id": "b68487ec-6192-471f-9d98-88b159e75067",
   "metadata": {},
   "outputs": [
    {
     "name": "stdout",
     "output_type": "stream",
     "text": [
      "BUS      Athens     Ardmore    Harvest    Huntsville Athens    \n",
      "48       0800       0830       0845       0915       1015      \n",
      "49       0830       0900       0915       0945       1045      \n",
      "50       0900       0930       0945       1015       1115      \n"
     ]
    }
   ],
   "source": [
    "#used code from: https://www.educba.com/python-print-table/ & https://stackoverflow.com/questions/6380644/read-text-file-colon-separated-words-and-get-a-list-of-tuples\n",
    "data = []\n",
    "for line in open('buses.txt'):\n",
    "  data.append(list(line.strip().split(':')))\n",
    "\n",
    "for v in data:\n",
    "    busNum, time1, time2, time3, time4, time5 = v\n",
    "    print (\"{:<8} {:<10} {:<10} {:<10} {:<10} {:<10}\".format(busNum, time1, time2, time3, time4, time5))"
   ]
  },
  {
   "cell_type": "markdown",
   "id": "084de79a-313d-4a6d-abe3-ef6d1f7d2cdd",
   "metadata": {},
   "source": [
    "# Problem 5 (Medium) \n",
    "Continuing our theme of waiting on the bus, consider again the\n",
    "bus timetable from the previous question.  The first line of the\n",
    "file contains the name for each stop on the bus system separated\n",
    "by colons.  Each following line contains the times using a\n",
    "24-hour clock at which each bus in the system will arrive at a\n",
    "bus stop, also separated by colons.  A sample file is attached to\n",
    "this problem.\n",
    "\n",
    "Write a Python program that for enumerates each of the bus stops and\n",
    "departure times from that station with each value separated by a colon\n",
    "\n",
    "The output from your program should be in the following\n",
    "format:\n",
    "\n",
    "Athens: 0800:0830:0900\n",
    "\n",
    "Ardmore: 0830:0900:0930\n",
    "\n",
    "Harvest: 0845:0915:0945\n",
    "\n",
    "Huntsville: 0915:0945:1015\n",
    "\n",
    "Athens: 1015:1045:1115\n"
   ]
  },
  {
   "cell_type": "code",
   "execution_count": 55,
   "id": "438ff64e",
   "metadata": {},
   "outputs": [
    {
     "name": "stdout",
     "output_type": "stream",
     "text": [
      "Athens 0800 0830 0900\n",
      "Ardmore 0830 0900 0930\n",
      "Harvest 0845 0915 0945\n",
      "Huntsville 0915 0945 1015\n",
      "Athens 1015 1045 1115\n"
     ]
    }
   ],
   "source": [
    "data = []\n",
    "for line in open('buses.txt'):\n",
    "  data.append(list(line.strip().split(':')))\n",
    "\n",
    "for x in data:\n",
    "  del x[0]\n",
    "\n",
    "for v in zip(*data):\n",
    "  print (*v,)"
   ]
  },
  {
   "cell_type": "markdown",
   "id": "1330b167-5468-403e-8f9c-62659c4e1227",
   "metadata": {},
   "source": [
    "# Problem 6 (Medium)\n",
    "\n",
    "Craps is a dice game played at many casinos.  A player rolls a pair of normal six-sided dice.   If the initial roll is a 2, 3, or 12, you lose.   If the roll is a 7 or 11, you win.   Any initial role causes the player to \"roll for point\".  That is the player keeps rolling the dice until they roll a 7 or the initial roll (the point).   If you roll a 7, you lose.  You roll the point, you win.\n",
    "\n",
    "Write a full Python program in the cell below that runs multiple games of craps and computes the probability of winning.   Compute that dividing the number of wins by the number of games played.\n",
    "\n",
    "I will give 30 points extra credit on this assignment to anyone who figures out how to graphically display each dice roll as the program runs."
   ]
  },
  {
   "cell_type": "code",
   "execution_count": 49,
   "id": "edf37510",
   "metadata": {},
   "outputs": [
    {
     "ename": "KeyboardInterrupt",
     "evalue": "",
     "output_type": "error",
     "traceback": [
      "\u001b[1;31m---------------------------------------------------------------------------\u001b[0m",
      "\u001b[1;31mKeyboardInterrupt\u001b[0m                         Traceback (most recent call last)",
      "Cell \u001b[1;32mIn [49], line 25\u001b[0m\n\u001b[0;32m     22\u001b[0m     probability \u001b[38;5;241m=\u001b[39m wins \u001b[38;5;241m/\u001b[39m times\n\u001b[0;32m     23\u001b[0m     \u001b[38;5;28mprint\u001b[39m(probability)\n\u001b[1;32m---> 25\u001b[0m \u001b[43mplayGame\u001b[49m\u001b[43m(\u001b[49m\u001b[43m)\u001b[49m\n",
      "Cell \u001b[1;32mIn [49], line 17\u001b[0m, in \u001b[0;36mplayGame\u001b[1;34m()\u001b[0m\n\u001b[0;32m     15\u001b[0m rollForPoint \u001b[38;5;241m=\u001b[39m (random\u001b[38;5;241m.\u001b[39mchoice(dice))\n\u001b[0;32m     16\u001b[0m \u001b[38;5;28;01mwhile\u001b[39;00m (rollForPoint \u001b[38;5;241m!=\u001b[39m \u001b[38;5;241m7\u001b[39m \u001b[38;5;129;01mor\u001b[39;00m rollForPoint \u001b[38;5;241m!=\u001b[39m initialRoll):\n\u001b[1;32m---> 17\u001b[0m     rollForPoint \u001b[38;5;241m=\u001b[39m (\u001b[43mrandom\u001b[49m\u001b[38;5;241;43m.\u001b[39;49m\u001b[43mchoice\u001b[49m\u001b[43m(\u001b[49m\u001b[43mdice\u001b[49m\u001b[43m)\u001b[49m)\n\u001b[0;32m     18\u001b[0m \u001b[38;5;28;01mif\u001b[39;00m (rollForPoint \u001b[38;5;241m==\u001b[39m \u001b[38;5;241m7\u001b[39m):\n\u001b[0;32m     19\u001b[0m     losses \u001b[38;5;241m+\u001b[39m\u001b[38;5;241m=\u001b[39m \u001b[38;5;241m1\u001b[39m\n",
      "File \u001b[1;32mC:\\Program Files\\WindowsApps\\PythonSoftwareFoundation.Python.3.10_3.10.2288.0_x64__qbz5n2kfra8p0\\lib\\random.py:378\u001b[0m, in \u001b[0;36mRandom.choice\u001b[1;34m(self, seq)\u001b[0m\n\u001b[0;32m    376\u001b[0m \u001b[39m\"\"\"Choose a random element from a non-empty sequence.\"\"\"\u001b[39;00m\n\u001b[0;32m    377\u001b[0m \u001b[39m# raises IndexError if seq is empty\u001b[39;00m\n\u001b[1;32m--> 378\u001b[0m \u001b[39mreturn\u001b[39;00m seq[\u001b[39mself\u001b[39;49m\u001b[39m.\u001b[39;49m_randbelow(\u001b[39mlen\u001b[39;49m(seq))]\n",
      "File \u001b[1;32mC:\\Program Files\\WindowsApps\\PythonSoftwareFoundation.Python.3.10_3.10.2288.0_x64__qbz5n2kfra8p0\\lib\\random.py:245\u001b[0m, in \u001b[0;36mRandom._randbelow_with_getrandbits\u001b[1;34m(self, n)\u001b[0m\n\u001b[0;32m    243\u001b[0m     \u001b[39mreturn\u001b[39;00m \u001b[39m0\u001b[39m\n\u001b[0;32m    244\u001b[0m getrandbits \u001b[39m=\u001b[39m \u001b[39mself\u001b[39m\u001b[39m.\u001b[39mgetrandbits\n\u001b[1;32m--> 245\u001b[0m k \u001b[39m=\u001b[39m n\u001b[39m.\u001b[39;49mbit_length()  \u001b[39m# don't use (n-1) here because n can be 1\u001b[39;00m\n\u001b[0;32m    246\u001b[0m r \u001b[39m=\u001b[39m getrandbits(k)  \u001b[39m# 0 <= r < 2**k\u001b[39;00m\n\u001b[0;32m    247\u001b[0m \u001b[39mwhile\u001b[39;00m r \u001b[39m>\u001b[39m\u001b[39m=\u001b[39m n:\n",
      "\u001b[1;31mKeyboardInterrupt\u001b[0m: "
     ]
    }
   ],
   "source": [
    "import random\n",
    "\n",
    "def playGame():\n",
    "    dice = (1, 2, 3, 4, 5, 6, 7, 8, 9, 10, 11, 12)\n",
    "    times = 10\n",
    "    wins = 0\n",
    "    losses = 0\n",
    "    for i in range(times):\n",
    "        initialRoll = (random.choice(dice))\n",
    "        if (initialRoll == 2 or initialRoll == 3 or initialRoll == 12):\n",
    "            losses += 1\n",
    "        elif (initialRoll == 7 or initialRoll == 11):\n",
    "            wins += 1\n",
    "        else: \n",
    "            rollForPoint = (random.choice(dice))\n",
    "            while (rollForPoint != 7 or rollForPoint != initialRoll):\n",
    "                rollForPoint = (random.choice(dice))\n",
    "            if (rollForPoint == 7):\n",
    "                losses += 1\n",
    "            elif (rollForPoint == initialRoll):\n",
    "                wins += 1\n",
    "    probability = wins / times\n",
    "    print(probability)\n",
    "\n",
    "playGame()\n",
    "        \n"
   ]
  },
  {
   "cell_type": "markdown",
   "id": "fa42a5e9",
   "metadata": {},
   "source": []
  }
 ],
 "metadata": {
  "kernelspec": {
   "display_name": "Python 3.10.7 64-bit (microsoft store)",
   "language": "python",
   "name": "python3"
  },
  "language_info": {
   "codemirror_mode": {
    "name": "ipython",
    "version": 3
   },
   "file_extension": ".py",
   "mimetype": "text/x-python",
   "name": "python",
   "nbconvert_exporter": "python",
   "pygments_lexer": "ipython3",
   "version": "3.10.8"
  },
  "vscode": {
   "interpreter": {
    "hash": "bfec723a3f94d9df6c18ca62a15e1ea49fcfd5b2596b9e30e43cfd22f0e38778"
   }
  }
 },
 "nbformat": 4,
 "nbformat_minor": 5
}
