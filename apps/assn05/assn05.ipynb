{
 "cells": [
  {
   "cell_type": "markdown",
   "id": "b5214ed3-f3c4-4413-80c0-b9bd957f49de",
   "metadata": {},
   "source": [
    "CS417 Assignment 05\n",
    "---\n",
    "More Fun With Python\n",
    "---\n",
    "\n",
    "# Problem 1(Easy) \n",
    "Write a function named `occurrences` in Python  that takes a list and some object returns the a new list that\n",
    "    contains the elements in the first list equal to the key.\n",
    "    "
   ]
  },
  {
   "cell_type": "code",
   "execution_count": 9,
   "id": "19dd3781-6336-4ba4-af0a-ccce5efc85ee",
   "metadata": {
    "tags": []
   },
   "outputs": [
    {
     "name": "stdout",
     "output_type": "stream",
     "text": [
      "[2, 2, 2]\n"
     ]
    }
   ],
   "source": [
    "def occurences (list, object):\n",
    "    newList = []\n",
    "    for i in list: \n",
    "        if (i == object):\n",
    "            newList.append(i)\n",
    "    return newList\n",
    "\n",
    "print(occurences([1, 2, 2, 3, 4, 2], 2))"
   ]
  },
  {
   "cell_type": "markdown",
   "id": "217a51f9-8ce4-490b-9f50-830d9720e32c",
   "metadata": {},
   "source": [
    "# Problem 2 (Easy)\n",
    "Write a function in Python named `numSmaller` that\n",
    "    given a parameter containing a list of size 1 or greater and some\n",
    "    numeric parameter returns the number of elements that are strictly\n",
    "    **less** than that number."
   ]
  },
  {
   "cell_type": "code",
   "execution_count": 8,
   "id": "3717c6f8-4078-44e5-bb70-c62bb7dae0fe",
   "metadata": {
    "tags": []
   },
   "outputs": [
    {
     "name": "stdout",
     "output_type": "stream",
     "text": [
      "3\n"
     ]
    }
   ],
   "source": [
    "def numSmaller(list, number):\n",
    "    counter = 0\n",
    "    for x in list: \n",
    "        if (x < number): \n",
    "            counter = counter + 1\n",
    "    return counter\n",
    "\n",
    "print(numSmaller([1,2,3,4,5], 4))"
   ]
  },
  {
   "cell_type": "markdown",
   "id": "ec4bda44-1b7b-4b4a-b08e-79b3b9bf6da5",
   "metadata": {},
   "source": [
    "# Problem 3 (Easy) \n",
    "Write a function in Python named `secondSmallest`\n",
    "    takes a list of size 1 or greater and returns the position of the\n",
    "    second smallest element of the list.   In the case, where the\n",
    "    smallest entry in the list occurs more than once, the second\n",
    "    occurrence of the item would be the second smallest entry.  For\n",
    "    example, in the list `[1,1,1,2,3]`, the position returned\n",
    "    would be 1.\n",
    "    \n",
    "    "
   ]
  },
  {
   "cell_type": "code",
   "execution_count": 18,
   "id": "9f374dee-e226-4b3f-bedc-7e3c6d0e07a9",
   "metadata": {},
   "outputs": [
    {
     "data": {
      "text/plain": [
       "1"
      ]
     },
     "execution_count": 18,
     "metadata": {},
     "output_type": "execute_result"
    }
   ],
   "source": [
    "#used code from: https://www.chegg.com/homework-help/questions-and-answers/please-help-python-3-homework-please-screenshot-output-thank-1-write-function-named-occurr-q58080507\n",
    "def secondSmallest (list):\n",
    "    smallest = 0\n",
    "    secondSmallest = 1\n",
    "    count = 1\n",
    "    for i in range(1, len(list)):\n",
    "        if list[i] < list[smallest]:\n",
    "            smallest = i\n",
    "            count = 1\n",
    "        elif list[i] == list[smallest] and count < 2:\n",
    "            secondSmallest = i\n",
    "            count += 1\n",
    "        elif list[i] < list[secondSmallest]:\n",
    "            secondSmallest = i \n",
    "    return secondSmallest\n",
    "\n",
    "secondSmallest([1,1,1,2,3])\n",
    "\n"
   ]
  },
  {
   "cell_type": "markdown",
   "id": "e7f19b38-0935-44cd-888a-59c74efa7822",
   "metadata": {},
   "source": [
    "# Problem 4 (Very Easy) \n",
    "You are given a text file that contains the timetable for buses\n",
    "that travel a college campus.  The first line of the file\n",
    "contains the name for each stop on the bus system separated by\n",
    "colons.  Each following line contains the times using a 24-hour\n",
    "clock at which each bus in the system will arrive at a bus stop,\n",
    "also separated by colons.\n",
    "\n",
    "The timetable will have the following format:\n",
    "\n",
    "| BUS | Athens | Ardmore | Harvest| Huntsville| Athens|\n",
    "|-----|--------|---------|--------|-----------|-------|\n",
    "|48  | 0800 | 0830| 0845 | 0915 | 1015|\n",
    "|49  | 0830 | 0900| 0915 | 0945 | 1045|\n",
    "|50  | 0900 | 0930| 0945 | 1015 | 1115|\n",
    "\n",
    "Write a program in Python that reads this file and outputs a row\n",
    "for each bus stop, showing the times when a bus arrives at that\n",
    "stop, formated in a table (remember... someone has already done it for you)."
   ]
  },
  {
   "cell_type": "code",
   "execution_count": 29,
   "id": "b68487ec-6192-471f-9d98-88b159e75067",
   "metadata": {},
   "outputs": [
    {
     "name": "stdout",
     "output_type": "stream",
     "text": [
      "BUS      Athens     Ardmore    Harvest    Huntsville Athens    \n",
      "48       0800       0830       0845       0915       1015      \n",
      "49       0830       0900       0915       0945       1045      \n",
      "50       0900       0930       0945       1015       1115      \n"
     ]
    }
   ],
   "source": [
    "#used code from: https://www.educba.com/python-print-table/ & https://stackoverflow.com/questions/6380644/read-text-file-colon-separated-words-and-get-a-list-of-tuples\n",
    "data = []\n",
    "for line in open('buses.txt'):\n",
    "  data.append(list(line.strip().split(':')))\n",
    "\n",
    "for v in data:\n",
    "    busNum, time1, time2, time3, time4, time5 = v\n",
    "    print (\"{:<8} {:<10} {:<10} {:<10} {:<10} {:<10}\".format(busNum, time1, time2, time3, time4, time5))"
   ]
  },
  {
   "cell_type": "markdown",
   "id": "084de79a-313d-4a6d-abe3-ef6d1f7d2cdd",
   "metadata": {},
   "source": [
    "# Problem 5 (Medium) \n",
    "Continuing our theme of waiting on the bus, consider again the\n",
    "bus timetable from the previous question.  The first line of the\n",
    "file contains the name for each stop on the bus system separated\n",
    "by colons.  Each following line contains the times using a\n",
    "24-hour clock at which each bus in the system will arrive at a\n",
    "bus stop, also separated by colons.  A sample file is attached to\n",
    "this problem.\n",
    "\n",
    "Write a Python program that for enumerates each of the bus stops and\n",
    "departure times from that station with each value separated by a colon\n",
    "\n",
    "The output from your program should be in the following\n",
    "format:\n",
    "\n",
    "Athens: 0800:0830:0900\n",
    "\n",
    "Ardmore: 0830:0900:0930\n",
    "\n",
    "Harvest: 0845:0915:0945\n",
    "\n",
    "Huntsville: 0915:0945:1015\n",
    "\n",
    "Athens: 1015:1045:1115\n"
   ]
  },
  {
   "cell_type": "code",
   "execution_count": null,
   "id": "438ff64e",
   "metadata": {},
   "outputs": [],
   "source": []
  },
  {
   "cell_type": "markdown",
   "id": "1330b167-5468-403e-8f9c-62659c4e1227",
   "metadata": {},
   "source": [
    "# Problem 6 (Medium)\n",
    "\n",
    "Craps is a dice game played at many casinos.  A player rolls a pair of normal six-sided dice.   If the initial roll is a 2, 3, or 12, you lose.   If the roll is a 7 or 11, you win.   Any initial role causes the player to \"roll for point\".  That is the player keeps rolling the dice until they roll a 7 or the initial roll (the point).   If you roll a 7, you lose.  You roll the point, you win.\n",
    "\n",
    "Write a full Python program in the cell below that runs multiple games of craps and computes the probability of winning.   Compute that dividing the number of wins by the number of games played.\n",
    "\n",
    "I will give 30 points extra credit on this assignment to anyone who figures out how to graphically display each dice roll as the program runs."
   ]
  },
  {
   "cell_type": "code",
   "execution_count": 21,
   "id": "edf37510",
   "metadata": {},
   "outputs": [
    {
     "ename": "TclError",
     "evalue": "invalid command name \".!label\"",
     "output_type": "error",
     "traceback": [
      "\u001b[1;31m---------------------------------------------------------------------------\u001b[0m",
      "\u001b[1;31mTclError\u001b[0m                                  Traceback (most recent call last)",
      "Cell \u001b[1;32mIn [21], line 50\u001b[0m\n\u001b[0;32m     45\u001b[0m label \u001b[38;5;241m=\u001b[39m Label(window, font\u001b[38;5;241m=\u001b[39m(\u001b[38;5;124m\"\u001b[39m\u001b[38;5;124mtimes\u001b[39m\u001b[38;5;124m\"\u001b[39m, \u001b[38;5;241m250\u001b[39m),\n\u001b[0;32m     46\u001b[0m               bg\u001b[38;5;241m=\u001b[39m\u001b[38;5;124m\"\u001b[39m\u001b[38;5;124mblack\u001b[39m\u001b[38;5;124m\"\u001b[39m, fg\u001b[38;5;241m=\u001b[39m\u001b[38;5;124m\"\u001b[39m\u001b[38;5;124myellow\u001b[39m\u001b[38;5;124m\"\u001b[39m)\n\u001b[0;32m     48\u001b[0m window\u001b[38;5;241m.\u001b[39mmainloop()\n\u001b[1;32m---> 50\u001b[0m \u001b[38;5;28mprint\u001b[39m(\u001b[43mroll_dices\u001b[49m\u001b[43m(\u001b[49m\u001b[43m)\u001b[49m)\n",
      "Cell \u001b[1;32mIn [21], line 31\u001b[0m, in \u001b[0;36mroll_dices\u001b[1;34m()\u001b[0m\n\u001b[0;32m     27\u001b[0m dice_dots \u001b[38;5;241m=\u001b[39m [\u001b[38;5;124m'\u001b[39m\u001b[38;5;130;01m\\u2680\u001b[39;00m\u001b[38;5;124m'\u001b[39m, \u001b[38;5;124m'\u001b[39m\u001b[38;5;130;01m\\u2681\u001b[39;00m\u001b[38;5;124m'\u001b[39m,\n\u001b[0;32m     28\u001b[0m              \u001b[38;5;124m'\u001b[39m\u001b[38;5;130;01m\\u2682\u001b[39;00m\u001b[38;5;124m'\u001b[39m, \u001b[38;5;124m'\u001b[39m\u001b[38;5;130;01m\\u2683\u001b[39;00m\u001b[38;5;124m'\u001b[39m,\n\u001b[0;32m     29\u001b[0m              \u001b[38;5;124m'\u001b[39m\u001b[38;5;130;01m\\u2684\u001b[39;00m\u001b[38;5;124m'\u001b[39m, \u001b[38;5;124m'\u001b[39m\u001b[38;5;130;01m\\u2685\u001b[39;00m\u001b[38;5;124m'\u001b[39m]\n\u001b[0;32m     30\u001b[0m \u001b[38;5;66;03m# Generating random dots on the dices\u001b[39;00m\n\u001b[1;32m---> 31\u001b[0m number \u001b[38;5;241m=\u001b[39m \u001b[43mlabel\u001b[49m\u001b[38;5;241;43m.\u001b[39;49m\u001b[43mconfigure\u001b[49m\u001b[43m(\u001b[49m\n\u001b[0;32m     32\u001b[0m \u001b[43m    \u001b[49m\u001b[43mtext\u001b[49m\u001b[38;5;241;43m=\u001b[39;49m\u001b[38;5;124;43mf\u001b[39;49m\u001b[38;5;124;43m'\u001b[39;49m\u001b[38;5;132;43;01m{\u001b[39;49;00m\u001b[43mrandom\u001b[49m\u001b[38;5;241;43m.\u001b[39;49m\u001b[43mchoice\u001b[49m\u001b[43m(\u001b[49m\u001b[43mdice_dots\u001b[49m\u001b[43m)\u001b[49m\u001b[38;5;132;43;01m}\u001b[39;49;00m\u001b[38;5;132;43;01m{\u001b[39;49;00m\u001b[43mrandom\u001b[49m\u001b[38;5;241;43m.\u001b[39;49m\u001b[43mchoice\u001b[49m\u001b[43m(\u001b[49m\u001b[43mdice_dots\u001b[49m\u001b[43m)\u001b[49m\u001b[38;5;132;43;01m}\u001b[39;49;00m\u001b[38;5;124;43m'\u001b[39;49m\u001b[43m)\u001b[49m\n\u001b[0;32m     33\u001b[0m label\u001b[38;5;241m.\u001b[39mpack()\n\u001b[0;32m     34\u001b[0m \u001b[38;5;28;01mreturn\u001b[39;00m number\n",
      "File \u001b[1;32mC:\\Program Files\\WindowsApps\\PythonSoftwareFoundation.Python.3.10_3.10.2288.0_x64__qbz5n2kfra8p0\\lib\\tkinter\\__init__.py:1675\u001b[0m, in \u001b[0;36mMisc.configure\u001b[1;34m(self, cnf, **kw)\u001b[0m\n\u001b[0;32m   1668\u001b[0m \u001b[39mdef\u001b[39;00m \u001b[39mconfigure\u001b[39m(\u001b[39mself\u001b[39m, cnf\u001b[39m=\u001b[39m\u001b[39mNone\u001b[39;00m, \u001b[39m*\u001b[39m\u001b[39m*\u001b[39mkw):\n\u001b[0;32m   1669\u001b[0m     \u001b[39m\"\"\"Configure resources of a widget.\u001b[39;00m\n\u001b[0;32m   1670\u001b[0m \n\u001b[0;32m   1671\u001b[0m \u001b[39m    The values for resources are specified as keyword\u001b[39;00m\n\u001b[0;32m   1672\u001b[0m \u001b[39m    arguments. To get an overview about\u001b[39;00m\n\u001b[0;32m   1673\u001b[0m \u001b[39m    the allowed keyword arguments call the method keys.\u001b[39;00m\n\u001b[0;32m   1674\u001b[0m \u001b[39m    \"\"\"\u001b[39;00m\n\u001b[1;32m-> 1675\u001b[0m     \u001b[39mreturn\u001b[39;00m \u001b[39mself\u001b[39;49m\u001b[39m.\u001b[39;49m_configure(\u001b[39m'\u001b[39;49m\u001b[39mconfigure\u001b[39;49m\u001b[39m'\u001b[39;49m, cnf, kw)\n",
      "File \u001b[1;32mC:\\Program Files\\WindowsApps\\PythonSoftwareFoundation.Python.3.10_3.10.2288.0_x64__qbz5n2kfra8p0\\lib\\tkinter\\__init__.py:1665\u001b[0m, in \u001b[0;36mMisc._configure\u001b[1;34m(self, cmd, cnf, kw)\u001b[0m\n\u001b[0;32m   1663\u001b[0m \u001b[39mif\u001b[39;00m \u001b[39misinstance\u001b[39m(cnf, \u001b[39mstr\u001b[39m):\n\u001b[0;32m   1664\u001b[0m     \u001b[39mreturn\u001b[39;00m \u001b[39mself\u001b[39m\u001b[39m.\u001b[39m_getconfigure1(_flatten((\u001b[39mself\u001b[39m\u001b[39m.\u001b[39m_w, cmd, \u001b[39m'\u001b[39m\u001b[39m-\u001b[39m\u001b[39m'\u001b[39m\u001b[39m+\u001b[39mcnf)))\n\u001b[1;32m-> 1665\u001b[0m \u001b[39mself\u001b[39;49m\u001b[39m.\u001b[39;49mtk\u001b[39m.\u001b[39;49mcall(_flatten((\u001b[39mself\u001b[39;49m\u001b[39m.\u001b[39;49m_w, cmd)) \u001b[39m+\u001b[39;49m \u001b[39mself\u001b[39;49m\u001b[39m.\u001b[39;49m_options(cnf))\n",
      "\u001b[1;31mTclError\u001b[0m: invalid command name \".!label\""
     ]
    }
   ],
   "source": [
    "#used code from: https://www.geeksforgeeks.org/gui-dice-roll-simulation-using-python/\n",
    "\n",
    "# Importing tkinter and random modules\n",
    "from tkinter import *\n",
    "import random\n",
    "  \n",
    "# Creating a window\n",
    "window = Tk()\n",
    "  \n",
    "# Setting background colour of the window\n",
    "window.configure(bg=\"black\")\n",
    "  \n",
    "# Setting geometry of the window\n",
    "window.geometry(\"550x350\")\n",
    "  \n",
    "# Setting title of the window\n",
    "window.title(\"Rolling The Dices Game\")\n",
    "  \n",
    "# Preventing maximizing of the window\n",
    "window.resizable(0, 0)\n",
    "  \n",
    "# Creating function to roll the dices\n",
    "def roll_dices():\n",
    "     # These values indicate dots on the dices.\n",
    "     # For eg: \\u2680 corresponds to 1 dot,\n",
    "     # \\u2681 corresponds to 2 dots etc.\n",
    "    dice_dots = ['\\u2680', '\\u2681',\n",
    "                 '\\u2682', '\\u2683',\n",
    "                 '\\u2684', '\\u2685']\n",
    "    # Generating random dots on the dices\n",
    "    label.configure(\n",
    "        text=f'{random.choice(dice_dots)}{random.choice(dice_dots)}')\n",
    "    label.pack()\n",
    "  \n",
    "# Adding button to roll the dices\n",
    "roll_button = Button(window, text=\"Roll!\",\n",
    "                     width=10, height=2,\n",
    "                     font=15, bg=\"aqua\",\n",
    "                     bd=2, command=roll_dices)\n",
    "# Setting the position of the button\n",
    "roll_button.pack(padx=10, pady=15)  \n",
    "  \n",
    "# Adding Label\n",
    "label = Label(window, font=(\"times\", 250),\n",
    "              bg=\"black\", fg=\"yellow\")\n",
    "  \n",
    "window.mainloop()\n"
   ]
  },
  {
   "cell_type": "markdown",
   "id": "fa42a5e9",
   "metadata": {},
   "source": []
  }
 ],
 "metadata": {
  "kernelspec": {
   "display_name": "Python 3.10.7 64-bit (microsoft store)",
   "language": "python",
   "name": "python3"
  },
  "language_info": {
   "codemirror_mode": {
    "name": "ipython",
    "version": 3
   },
   "file_extension": ".py",
   "mimetype": "text/x-python",
   "name": "python",
   "nbconvert_exporter": "python",
   "pygments_lexer": "ipython3",
   "version": "3.10.8"
  },
  "vscode": {
   "interpreter": {
    "hash": "bfec723a3f94d9df6c18ca62a15e1ea49fcfd5b2596b9e30e43cfd22f0e38778"
   }
  }
 },
 "nbformat": 4,
 "nbformat_minor": 5
}
